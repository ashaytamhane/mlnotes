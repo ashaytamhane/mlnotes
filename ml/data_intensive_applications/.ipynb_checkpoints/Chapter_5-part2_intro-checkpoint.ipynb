{
 "cells": [
  {
   "cell_type": "markdown",
   "metadata": {},
   "source": [
    "# Part 2 - Distributed Data"
   ]
  },
  {
   "cell_type": "markdown",
   "metadata": {},
   "source": [
    "* In part I (Chapters 1-4), we discussed aspects when data is stored on single machine\n",
    "* In part II, we discuss aspects when multiple machines are involved in storage and retrieval \n",
    "* Reasons to distribute db across multiple machines:\n",
    "  - Scalability: If read or write load grows bigger\n",
    "  - Fault tolerence: If any single machine goes down and we still need to be available\n",
    "  - Latency: If users are worldwide, we may want servers across so that geolocation is closer to users (network latency)"
   ]
  },
  {
   "cell_type": "markdown",
   "metadata": {},
   "source": [
    "### Scaling to higher load\n",
    " - Simplest approach is to buy a more powerful machine (called vertical scaling or scaling up)\n",
    " - This is a shared memory architecture, where all components can be treated as a single machine\n",
    " - Problem with shared memory approach: \n",
    "   - Cost grows faster than linear - machine twice the size cannot necessarily handle twice the load\n",
    "   - Fault tolerance is limited - high end machines have hot-swappable components, but its still limited to single geography\n",
    "   - Another approach is shared disk, where several machines are used but disk is shared. However, overhead of locking limit scalability"
   ]
  },
  {
   "cell_type": "markdown",
   "metadata": {},
   "source": [
    "### Shared-Nothing Architecture\n",
    "* Shared-nothing architectures (called horizontal scaling) have gained a lot of popularity. In this approach each machine is called a node and is independent from other nodes\n",
    "* Can potentially distribute data across geographic regions to reduce latency for users+ potentially survive loss of entire datacenter\n",
    "* Shared-nothing architectures are not always the best choice, however we will focus on them given they are more complex and more caution. The constraints and trade-offs need to be known since db will not hide them from us\n",
    "* Shared-nothing has many advantages, but also incurs additional complexity for applications and sometimes limits expressiveness of data models that we can use"
   ]
  },
  {
   "cell_type": "markdown",
   "metadata": {},
   "source": [
    "### Replication vs Partitioning\n",
    " * Two common ways data is distributed across nodes\n",
    "   - Replication: Keeping a copy of same data across nodes, potentially across geographies. This provides redundancy\n",
    "   - Partitioning: Splitting a big db into smaller subsets called 'partitions' that are split across nodes (also called 'sharding')\n",
    "   - Both are different mechanism, but go hand in hand (ex: a db can be split into two partitions and with two replicas per partition)"
   ]
  }
 ],
 "metadata": {
  "kernelspec": {
   "display_name": "Python 2",
   "language": "python",
   "name": "python2"
  },
  "language_info": {
   "codemirror_mode": {
    "name": "ipython",
    "version": 2
   },
   "file_extension": ".py",
   "mimetype": "text/x-python",
   "name": "python",
   "nbconvert_exporter": "python",
   "pygments_lexer": "ipython2",
   "version": "2.7.18"
  }
 },
 "nbformat": 4,
 "nbformat_minor": 2
}

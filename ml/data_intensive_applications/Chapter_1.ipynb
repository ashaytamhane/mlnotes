{
 "cells": [
  {
   "cell_type": "markdown",
   "id": "7d7a186f-98be-49ae-9982-cbcb07eb1eae",
   "metadata": {},
   "source": [
    "# Reliable, Scalable and Maintainable Applications"
   ]
  },
  {
   "cell_type": "markdown",
   "id": "841ea0d9-b293-445a-a46d-888867426104",
   "metadata": {},
   "source": [
    "* Reliability - Tolerating hardware & software faults, human error\n",
    "* Scalability - Measuring load & performance, Latency percentiles/throughput\n",
    "* Maintainability - Operability, simplicity & evolvability\n",
    "\n",
    "Most applications today are not compute intensive, but rather data intensive. Amount, complexity and speed of data leads to most problems"
   ]
  },
  {
   "cell_type": "markdown",
   "id": "62833bf6-8fca-4219-9049-900161e67869",
   "metadata": {
    "tags": []
   },
   "source": [
    "### Standard Building Blocks for most applications"
   ]
  },
  {
   "cell_type": "markdown",
   "id": "e8960eb7-c143-4f84-b81d-43250ed6e955",
   "metadata": {},
   "source": [
    "* **Databases** - Store data so that it can be found again\n",
    "* **Caches** - Remeber the result of an expensive operation, to speed up reads\n",
    "* **Search indexes** - Search or filter data based on keywords\n",
    "* **Stream processing** - Asynchronous handling of messages\n",
    "* **Batch processing** - Periodical crunching of data"
   ]
  },
  {
   "cell_type": "markdown",
   "id": "b019e4d9-c010-466f-afad-801b840684ac",
   "metadata": {},
   "source": [
    "A single building block/tool is typically not enough to build an application. Often we need to break down the problem into multiple tasks/tools and stitched together"
   ]
  },
  {
   "cell_type": "markdown",
   "id": "089f1acf-e7c7-49a3-920f-0f8e1d2133ad",
   "metadata": {},
   "source": [
    "### Reliability"
   ]
  },
  {
   "cell_type": "markdown",
   "id": "6beadaa8-910b-4e1f-ba93-97dd62c90cea",
   "metadata": {},
   "source": [
    "Continuing to work correctly, even when things go wrong\n",
    "* Application performs the function that user expects\n",
    "* Tolerate user mistakes or unexpected flows\n",
    "* Good performance under expected load and data volume \n",
    "* Prevents unauthorised access/abuse"
   ]
  },
  {
   "cell_type": "markdown",
   "id": "16aaef05-ea4e-43b7-8309-72f27e7fe67c",
   "metadata": {},
   "source": [
    "**Fault is not the same as Failure**\n",
    "\n",
    "* Fault is typically one component deviating from spec, but failure is when entire system stops providing service to user\n",
    "* It is hard to avoid faults, therefore it is best to design fault-tolerant mechanisms that prevent faults from causing failures"
   ]
  },
  {
   "cell_type": "markdown",
   "id": "290dd4b3-883a-4942-82e4-f73e6bef5056",
   "metadata": {},
   "source": []
  },
  {
   "cell_type": "code",
   "execution_count": null,
   "id": "7511aa92-99f9-4b22-973d-aa11d10c1614",
   "metadata": {},
   "outputs": [],
   "source": []
  }
 ],
 "metadata": {
  "kernelspec": {
   "display_name": "Python 3 (ipykernel)",
   "language": "python",
   "name": "python3"
  },
  "language_info": {
   "codemirror_mode": {
    "name": "ipython",
    "version": 3
   },
   "file_extension": ".py",
   "mimetype": "text/x-python",
   "name": "python",
   "nbconvert_exporter": "python",
   "pygments_lexer": "ipython3",
   "version": "3.9.7"
  }
 },
 "nbformat": 4,
 "nbformat_minor": 5
}

{
 "cells": [
  {
   "cell_type": "markdown",
   "id": "7d7a186f-98be-49ae-9982-cbcb07eb1eae",
   "metadata": {},
   "source": [
    "# Reliable, Scalable and Maintainable Applications"
   ]
  },
  {
   "cell_type": "markdown",
   "id": "841ea0d9-b293-445a-a46d-888867426104",
   "metadata": {},
   "source": [
    "* Reliability - Tolerating hardware & software faults, human error\n",
    "* Scalability - Measuring load & performance, Latency percentiles/throughput\n",
    "* Maintainability - Operability, simplicity & evolvability\n",
    "\n",
    "Amount, complexity and speed of data leads to most problems in today's applications"
   ]
  },
  {
   "cell_type": "markdown",
   "id": "62833bf6-8fca-4219-9049-900161e67869",
   "metadata": {
    "tags": []
   },
   "source": [
    "### Standard Building Blocks for most applications"
   ]
  },
  {
   "cell_type": "markdown",
   "id": "e8960eb7-c143-4f84-b81d-43250ed6e955",
   "metadata": {},
   "source": [
    "* **Databases** - Store data so that it can be found again\n",
    "* **Caches** - Remeber the result of an expensive operation, to speed up reads\n",
    "* **Search indexes** - Search or filter data based on keywords\n",
    "* **Stream processing** - Asynchronous handling of messages\n",
    "* **Batch processing** - Periodical crunching of data"
   ]
  },
  {
   "cell_type": "markdown",
   "id": "b019e4d9-c010-466f-afad-801b840684ac",
   "metadata": {},
   "source": [
    "A single building block/tool is typically not enough to build an application. Often we need to break down the problem into multiple tasks/tools and stitched together"
   ]
  },
  {
   "cell_type": "markdown",
   "id": "089f1acf-e7c7-49a3-920f-0f8e1d2133ad",
   "metadata": {},
   "source": [
    "## Reliability"
   ]
  },
  {
   "cell_type": "markdown",
   "id": "6beadaa8-910b-4e1f-ba93-97dd62c90cea",
   "metadata": {},
   "source": [
    "Continuing to work correctly, even when things go wrong\n",
    "* Application performs the function that user expects\n",
    "* Tolerate user mistakes or unexpected flows\n",
    "* Good performance under expected load and data volume \n",
    "* Prevents unauthorised access/abuse"
   ]
  },
  {
   "cell_type": "markdown",
   "id": "16aaef05-ea4e-43b7-8309-72f27e7fe67c",
   "metadata": {},
   "source": [
    "**Fault is not the same as Failure**\n",
    "\n",
    "* Fault is typically one component deviating from spec, but failure is when entire system stops providing service to user\n",
    "* It is hard to avoid faults, therefore it is best to design fault-tolerant mechanisms that prevent faults from causing failures"
   ]
  },
  {
   "cell_type": "markdown",
   "id": "290dd4b3-883a-4942-82e4-f73e6bef5056",
   "metadata": {},
   "source": [
    "### Harware Faults"
   ]
  },
  {
   "cell_type": "markdown",
   "id": "45e01ae1-db0b-445d-a2d1-9362e0ac7a0b",
   "metadata": {},
   "source": [
    "* When you have a lot of machines in large datacenters, probability of hardware faults is high\n",
    "* This could be because of hard disk crash, RAM errors, power grid backouts or human errors\n",
    "* RAID - We add redundant components so that when one component dies, other can take over\n",
    "* Software fault-tolerance techniques are preferred or used in addition to hardware redundancy due to operational advantages since they support rolling upgrades (one node at a time) instead of downtime"
   ]
  },
  {
   "cell_type": "markdown",
   "id": "8158e808-c4b6-4d4e-ac93-0169c891962a",
   "metadata": {},
   "source": [
    "### Software Faults\n",
    "* Harware faults are typically random and independent from each other (one machine failing may not imply other will fail)\n",
    "* A different class of faults is a systematic error which are harder to anticipate as co-relation is across nodes. Examples:\n",
    "  * A software bug that crashes application server for some bad input\n",
    "  * A runaway process that uses up a shared resource (CPU time, memory, disk space, network bandwidth)\n",
    "  * A service that system depends on slows down/becomes unresponsive or sends corrupted responses\n",
    "  * Cascading failures where one component triggers fault in another fault"
   ]
  },
  {
   "cell_type": "markdown",
   "id": "7ce43ed7-8768-4842-9dbe-95dafb55643c",
   "metadata": {},
   "source": [
    "### Human Errors"
   ]
  },
  {
   "cell_type": "markdown",
   "id": "f19e17e1-4a2f-45b7-9a33-bd3dd8b8f402",
   "metadata": {},
   "source": [
    "* How do we make systems reliable, inspite of unreliable humans designing/building software and running them?\n",
    "  * Design systems in a way that minimises opportunity for error - well designed abstractions, APIs, and admin interfaces\n",
    "  * Provide sandbox environments where people can explore and experiment safely using real data without impact real users\n",
    "  * Rogorous testing from unit testing to whole system integration tests including corner cases\n",
    "  * Easy recovery from human errors - enable fast roll back configuration changes or code\n",
    "  * Detailed, clear monitoring - performance metrics and error rates (called as telemetry in other engg disciplines)"
   ]
  },
  {
   "cell_type": "markdown",
   "id": "d2e99998-b4d6-4502-ad44-5a492ca6f394",
   "metadata": {},
   "source": [
    "## Scalability"
   ]
  },
  {
   "cell_type": "markdown",
   "id": "ce07edc7-0857-433a-be2a-46f364da199d",
   "metadata": {},
   "source": [
    "* Even if a system is working reliably today, it may not necessarily mean that it will continue to do so in future\n",
    "* This could be because of increased load in number of users or data volume\n",
    "* Scalability is the term we use to describe a system's ability to cope with increased load"
   ]
  },
  {
   "cell_type": "markdown",
   "id": "c598cf59-4225-45fc-a7b3-fb7d39dc344a",
   "metadata": {},
   "source": [
    "### Defining Load"
   ]
  },
  {
   "cell_type": "markdown",
   "id": "65c60a29-3cdb-4646-89ec-ceff2e097768",
   "metadata": {},
   "source": [
    "* We define load with a few numbers referred to as load parameters\n",
    "\n",
    "* Best choice of parameters depends on the architecture of system. Examples:\n",
    "  * Requests per second (web server)\n",
    "  * Ratio of reads to writes (database)\n",
    "  * Number of concurrent users (chatroom)\n",
    "  * Hit rate (cache)\n",
    "  * Avg case vs extreme case of parameters depends on the use case\n",
    "\n",
    "\n",
    "* Twitter example (2012 data)\n",
    "    * Posting a tweet - User can publish a tweet to their followers, which results in 4.6k requests per second on avg and 12k requests at peak\n",
    "    * Home timeline - User can view tweets posted by people they follow (300k requests per sec)\n",
    "    * Here the main challenge is *fanout* , each user follows many people and each user is followed by many people. The term fanout is borrowed from electronic engineering where it describes the number of logic gate inputs that are attached to another gate's output. Output needs to supply enough current to drive all out attached inputs. In transaction processing systems, we use it to describe the number of requests to other services that we need to make in order to serve one incoming request"
   ]
  },
  {
   "cell_type": "markdown",
   "id": "97b2f47b-7132-44cc-893e-2009c0b52794",
   "metadata": {},
   "source": []
  },
  {
   "cell_type": "code",
   "execution_count": null,
   "id": "38d6e633-3a2d-4362-b6de-46e320b9e3c6",
   "metadata": {},
   "outputs": [],
   "source": []
  }
 ],
 "metadata": {
  "kernelspec": {
   "display_name": "Python 3 (ipykernel)",
   "language": "python",
   "name": "python3"
  },
  "language_info": {
   "codemirror_mode": {
    "name": "ipython",
    "version": 3
   },
   "file_extension": ".py",
   "mimetype": "text/x-python",
   "name": "python",
   "nbconvert_exporter": "python",
   "pygments_lexer": "ipython3",
   "version": "3.9.7"
  }
 },
 "nbformat": 4,
 "nbformat_minor": 5
}
